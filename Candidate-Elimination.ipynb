{
 "cells": [
  {
   "cell_type": "code",
   "execution_count": 27,
   "id": "a0c46781",
   "metadata": {
    "scrolled": true
   },
   "outputs": [
    {
     "name": "stdout",
     "output_type": "stream",
     "text": [
      "   Example    Sky AirTemp Humidity    Wind Water  Forecast  EnjoySport\n",
      "0        1  Sunny    Warm   Normal  Strong   Warm      Same        Yes\n",
      "1        2  Sunny    Cold     High  Strong   Warm      Same        Yes\n",
      "2        3  Rainy    Cold     High  Strong   Warm    Change         No\n",
      "3        4  Sunny    Warm     High  Strong   Cool    Change        Yes\n",
      "4        5  Sunny    Warm     High  Strong   Cool    Change         No\n",
      "\n",
      "atrributes are : \n",
      " [['Sunny' 'Warm' 'Normal' 'Strong' 'Warm' 'Same']\n",
      " ['Sunny' 'Cold' 'High' 'Strong' 'Warm' 'Same']\n",
      " ['Rainy' 'Cold' 'High' 'Strong' 'Warm' 'Change']\n",
      " ['Sunny' 'Warm' 'High' 'Strong' 'Cool' 'Change']\n",
      " ['Sunny' 'Warm' 'High' 'Strong' 'Cool' 'Change']]\n",
      "\n",
      "target is : \n",
      " ['Yes' 'Yes' 'No' 'Yes' 'No']\n",
      "[['?', '?', '?', '?', '?', '?'], ['?', '?', '?', '?', '?', '?'], ['?', '?', '?', '?', '?', '?'], ['?', '?', '?', '?', '?', '?'], ['?', '?', '?', '?', '?', '?'], ['?', '?', '?', '?', '?', '?']]\n",
      "\n",
      "intially the specific hypothesis is : \n",
      " ['0', '0', '0', '0', '0', '0']\n",
      "\n",
      "final hypothesis is : \n",
      " None\n",
      "['Sunny', '?', '?', 'Strong', '?', '?']\n",
      "[['Sunny', '?', '?', '?', '?', '?']]\n"
     ]
    }
   ],
   "source": [
    "import numpy as np\n",
    "import pandas as pd\n",
    "\n",
    "data=pd.read_csv(\"EnjoySport.csv\")\n",
    "print(data)\n",
    "\n",
    "attributes=np.array(data)[:,1:-1]\n",
    "print(\"\\natrributes are : \\n\",attributes)\n",
    "\n",
    "target=np.array(data)[:,-1]\n",
    "print(\"\\ntarget is : \\n\",target)\n",
    "\n",
    "specific_hypothesis=[\"0\"]*(len(data.columns)-2)\n",
    "gen_hyp=[[\"?\" for i in range (len(data.columns)-2)]for j in range(len(data.columns)-2)]\n",
    "print(gen_hyp)\n",
    "print(\"\\nintially the specific hypothesis is : \\n\",specific_hypothesis)\n",
    "a=[]\n",
    "def train(attributes,target):\n",
    "    \n",
    "    for i,val in enumerate(target):\n",
    "        if val==\"Yes\":\n",
    "            for j in range(len(attributes[i])):\n",
    "                if specific_hypothesis[j]==\"0\":\n",
    "                    specific_hypothesis[j]=attributes[i][j]\n",
    "                elif specific_hypothesis[j]!=attributes[i][j]:\n",
    "                    specific_hypothesis[j]=\"?\"\n",
    "        else:\n",
    "            k=0\n",
    "            for m in range(len(attributes[i])):\n",
    "                if attributes[i][m]!=specific_hypothesis[m]:\n",
    "                    gen_hyp[m][k]=specific_hypothesis[m]\n",
    "                k=k+1\n",
    "    j=0\n",
    "    for i in range(len(specific_hypothesis)):\n",
    "        if specific_hypothesis[i]==gen_hyp[i][j] and gen_hyp[i]!=['?', '?', '?', '?', '?', '?']:\n",
    "            a.append(gen_hyp[i])\n",
    "        j=j+1        \n",
    "print(\"\\nfinal hypothesis is : \\n\",train(attributes,target))\n",
    "print(specific_hypothesis)\n",
    "print(a)"
   ]
  },
  {
   "cell_type": "code",
   "execution_count": null,
   "id": "6b70136d",
   "metadata": {},
   "outputs": [],
   "source": []
  },
  {
   "cell_type": "code",
   "execution_count": null,
   "id": "3f40d064",
   "metadata": {},
   "outputs": [],
   "source": []
  }
 ],
 "metadata": {
  "kernelspec": {
   "display_name": "Python 3 (ipykernel)",
   "language": "python",
   "name": "python3"
  },
  "language_info": {
   "codemirror_mode": {
    "name": "ipython",
    "version": 3
   },
   "file_extension": ".py",
   "mimetype": "text/x-python",
   "name": "python",
   "nbconvert_exporter": "python",
   "pygments_lexer": "ipython3",
   "version": "3.11.3"
  }
 },
 "nbformat": 4,
 "nbformat_minor": 5
}
